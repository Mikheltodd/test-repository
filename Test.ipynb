{
  "nbformat": 4,
  "nbformat_minor": 0,
  "metadata": {
    "colab": {
      "private_outputs": true,
      "provenance": [],
      "authorship_tag": "ABX9TyPWsDDhtRR38SdFw2BwKaqn",
      "include_colab_link": true
    },
    "kernelspec": {
      "name": "python3",
      "display_name": "Python 3"
    },
    "language_info": {
      "name": "python"
    }
  },
  "cells": [
    {
      "cell_type": "markdown",
      "metadata": {
        "id": "view-in-github",
        "colab_type": "text"
      },
      "source": [
        "<a href=\"https://colab.research.google.com/github/Mikheltodd/test-repository/blob/main/Test.ipynb\" target=\"_parent\"><img src=\"https://colab.research.google.com/assets/colab-badge.svg\" alt=\"Open In Colab\"/></a>"
      ]
    },
    {
      "cell_type": "markdown",
      "source": [
        "## Archivo de Prueba\n",
        "### Miguel Ortiz\n",
        "### 391831\n",
        "### miguel.ortizp@upb.edu.co"
      ],
      "metadata": {
        "id": "8dAl6X4U4oFS"
      }
    },
    {
      "cell_type": "code",
      "execution_count": null,
      "metadata": {
        "id": "Ars9eQkQ4TTF"
      },
      "outputs": [],
      "source": [
        "name = 'Miguel'\n",
        "#name = input(\"What's your name? \")\n",
        "print(\"Hello, \", name, \"welcome to Colab!\")"
      ]
    },
    {
      "cell_type": "code",
      "source": [],
      "metadata": {
        "id": "keHMFNKf5ueu"
      },
      "execution_count": null,
      "outputs": []
    }
  ]
}